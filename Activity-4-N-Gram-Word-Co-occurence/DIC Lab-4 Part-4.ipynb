{
 "cells": [
  {
   "cell_type": "code",
   "execution_count": 1,
   "metadata": {
    "collapsed": false
   },
   "outputs": [
    {
     "name": "stderr",
     "output_type": "stream",
     "text": [
      "Installing package into 'C:/Users/User/Documents/R/win-library/3.3'\n",
      "(as 'lib' is unspecified)\n"
     ]
    },
    {
     "name": "stdout",
     "output_type": "stream",
     "text": [
      "package 'ggplot2' successfully unpacked and MD5 sums checked\n",
      "\n",
      "The downloaded binary packages are in\n",
      "\tC:\\Users\\User\\AppData\\Local\\Temp\\RtmpQB8tvQ\\downloaded_packages\n"
     ]
    },
    {
     "name": "stderr",
     "output_type": "stream",
     "text": [
      "Warning message:\n",
      "\"package 'ggplot2' was built under R version 3.3.3\""
     ]
    }
   ],
   "source": [
    "install.packages('ggplot2', repos='https://cran.r-project.org/')\n",
    "library(ggplot2)"
   ]
  },
  {
   "cell_type": "markdown",
   "metadata": {},
   "source": [
    "Add ggplot2 library for plotting"
   ]
  },
  {
   "cell_type": "code",
   "execution_count": 10,
   "metadata": {
    "collapsed": false
   },
   "outputs": [
    {
     "data": {
      "text/html": [
       "<table>\n",
       "<thead><tr><th scope=col>Ngram</th><th scope=col>Filecount</th><th scope=col>Time</th></tr></thead>\n",
       "<tbody>\n",
       "\t<tr><td>2     </td><td>2     </td><td>11.032</td></tr>\n",
       "\t<tr><td>3     </td><td>2     </td><td>26.601</td></tr>\n",
       "\t<tr><td>2     </td><td>4     </td><td>10.135</td></tr>\n",
       "\t<tr><td>3     </td><td>4     </td><td>16.212</td></tr>\n",
       "\t<tr><td>2     </td><td>6     </td><td> 9.603</td></tr>\n",
       "\t<tr><td>3     </td><td>6     </td><td>60.213</td></tr>\n",
       "</tbody>\n",
       "</table>\n"
      ],
      "text/latex": [
       "\\begin{tabular}{r|lll}\n",
       " Ngram & Filecount & Time\\\\\n",
       "\\hline\n",
       "\t 2      & 2      & 11.032\\\\\n",
       "\t 3      & 2      & 26.601\\\\\n",
       "\t 2      & 4      & 10.135\\\\\n",
       "\t 3      & 4      & 16.212\\\\\n",
       "\t 2      & 6      &  9.603\\\\\n",
       "\t 3      & 6      & 60.213\\\\\n",
       "\\end{tabular}\n"
      ],
      "text/markdown": [
       "\n",
       "Ngram | Filecount | Time | \n",
       "|---|---|---|---|---|---|\n",
       "| 2      | 2      | 11.032 | \n",
       "| 3      | 2      | 26.601 | \n",
       "| 2      | 4      | 10.135 | \n",
       "| 3      | 4      | 16.212 | \n",
       "| 2      | 6      |  9.603 | \n",
       "| 3      | 6      | 60.213 | \n",
       "\n",
       "\n"
      ],
      "text/plain": [
       "  Ngram Filecount Time  \n",
       "1 2     2         11.032\n",
       "2 3     2         26.601\n",
       "3 2     4         10.135\n",
       "4 3     4         16.212\n",
       "5 2     6          9.603\n",
       "6 3     6         60.213"
      ]
     },
     "metadata": {},
     "output_type": "display_data"
    }
   ],
   "source": [
    "tweetWords <- read.table(\"TimeOutput.txt\",header=TRUE)\n",
    "head(tweetWords)"
   ]
  },
  {
   "cell_type": "markdown",
   "metadata": {},
   "source": [
    "Read from the shell script output"
   ]
  },
  {
   "cell_type": "code",
   "execution_count": 11,
   "metadata": {
    "collapsed": false
   },
   "outputs": [
    {
     "data": {},
     "metadata": {},
     "output_type": "display_data"
    },
    {
     "data": {
      "image/png": "[encoded data removed]",
      "text/plain": [
       "plot without title"
      ]
     },
     "metadata": {},
     "output_type": "display_data"
    }
   ],
   "source": [
    "ggplot(tweetWords, aes(x=Filecount, y=Time, group=Ngram)) + \n",
    "  geom_line(data = subset(tweetWords,Ngram=='2'), aes(x = Filecount, y = Time, color = \"2 Gram\")) +\n",
    "  geom_line(data = subset(tweetWords,Ngram=='3'), aes(x = Filecount, y = Time, color = \"3 Gram\")) +\n",
    "  xlab('Number of Files') +\n",
    "  ylab('Time Taken in Secs')"
   ]
  },
  {
   "cell_type": "code",
   "execution_count": null,
   "metadata": {
    "collapsed": true
   },
   "outputs": [],
   "source": []
  }
 ],
 "metadata": {
  "kernelspec": {
   "display_name": "R",
   "language": "R",
   "name": "ir"
  },
  "language_info": {
   "codemirror_mode": "r",
   "file_extension": ".r",
   "mimetype": "text/x-r-source",
   "name": "R",
   "pygments_lexer": "r",
   "version": "3.3.2"
  }
 },
 "nbformat": 4,
 "nbformat_minor": 2
}
