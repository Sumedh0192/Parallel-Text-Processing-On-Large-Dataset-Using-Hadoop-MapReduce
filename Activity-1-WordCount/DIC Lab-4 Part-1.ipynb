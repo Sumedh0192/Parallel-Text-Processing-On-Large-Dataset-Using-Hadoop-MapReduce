{
 "cells": [
  {
   "cell_type": "code",
   "execution_count": 1,
   "metadata": {
    "collapsed": false
   },
   "outputs": [
    {
     "name": "stderr",
     "output_type": "stream",
     "text": [
      "Installing package into 'C:/Users/User/Documents/R/win-library/3.3'\n",
      "(as 'lib' is unspecified)\n"
     ]
    },
    {
     "name": "stdout",
     "output_type": "stream",
     "text": [
      "package 'twitteR' successfully unpacked and MD5 sums checked\n",
      "\n",
      "The downloaded binary packages are in\n",
      "\tC:\\Users\\User\\AppData\\Local\\Temp\\Rtmp0oG2qj\\downloaded_packages\n"
     ]
    },
    {
     "name": "stderr",
     "output_type": "stream",
     "text": [
      "Installing package into 'C:/Users/User/Documents/R/win-library/3.3'\n",
      "(as 'lib' is unspecified)\n"
     ]
    },
    {
     "name": "stdout",
     "output_type": "stream",
     "text": [
      "package 'ROAuth' successfully unpacked and MD5 sums checked\n",
      "\n",
      "The downloaded binary packages are in\n",
      "\tC:\\Users\\User\\AppData\\Local\\Temp\\Rtmp0oG2qj\\downloaded_packages\n"
     ]
    }
   ],
   "source": [
    "install.packages(\"twitteR\", repos = \"https://cran.r-project.org/\")\n",
    "install.packages(\"ROAuth\", repos = \"https://cran.r-project.org/\")"
   ]
  },
  {
   "cell_type": "code",
   "execution_count": 15,
   "metadata": {
    "collapsed": false
   },
   "outputs": [],
   "source": [
    "library(twitteR)\n",
    "library(ROAuth)"
   ]
  },
  {
   "cell_type": "markdown",
   "metadata": {},
   "source": [
    "Add twitter libraries to extract tweets"
   ]
  },
  {
   "cell_type": "code",
   "execution_count": 16,
   "metadata": {
    "collapsed": false
   },
   "outputs": [
    {
     "name": "stdout",
     "output_type": "stream",
     "text": [
      "[1] \"Using direct authentication\"\n"
     ]
    }
   ],
   "source": [
    "consumer_key <- \"BKro8XRNa8BqG7dl5kkfRNzAx\"\n",
    "consumer_secret <- \"FAhRriPzc5jkEJX8LdzqDpDxzg1LDgXwwKU8nq8154RvAIpnQu\"\n",
    "access_token <- \"772574727051370496-aM0inDDiZEow8fHaVBXHKV1uDiBtKeA\"\n",
    "access_secret <- \"eIOajp1GUa0yR1sBXCIqEVHM7VJCo0c1dSGp6YoZHCm4J\"\n",
    "setup_twitter_oauth(consumer_key, consumer_secret, access_token, access_secret)"
   ]
  },
  {
   "cell_type": "code",
   "execution_count": 28,
   "metadata": {
    "collapsed": false
   },
   "outputs": [
    {
     "name": "stdout",
     "output_type": "stream",
     "text": [
      "[1] \"Rate limited .... blocking for a minute and retrying up to 119 times ...\"\n",
      "[1] \"Rate limited .... blocking for a minute and retrying up to 118 times ...\"\n",
      "[1] \"Rate limited .... blocking for a minute and retrying up to 117 times ...\"\n",
      "[1] \"Rate limited .... blocking for a minute and retrying up to 116 times ...\"\n",
      "[1] \"Rate limited .... blocking for a minute and retrying up to 115 times ...\"\n",
      "[1] \"Rate limited .... blocking for a minute and retrying up to 114 times ...\"\n",
      "[1] \"Rate limited .... blocking for a minute and retrying up to 113 times ...\"\n",
      "[1] \"Rate limited .... blocking for a minute and retrying up to 112 times ...\"\n"
     ]
    }
   ],
   "source": [
    "tweets <- searchTwitter('#ChampionsLeague', n=10000)\n",
    "tweets <- strip_retweets(tweets, strip_manual=TRUE, strip_mt=TRUE)"
   ]
  },
  {
   "cell_type": "markdown",
   "metadata": {},
   "source": [
    "Tweets are searched based on a hashtag related to football."
   ]
  },
  {
   "cell_type": "code",
   "execution_count": 29,
   "metadata": {
    "collapsed": false
   },
   "outputs": [
    {
     "data": {
      "text/html": [
       "5562"
      ],
      "text/latex": [
       "5562"
      ],
      "text/markdown": [
       "5562"
      ],
      "text/plain": [
       "[1] 5562"
      ]
     },
     "metadata": {},
     "output_type": "display_data"
    }
   ],
   "source": [
    "df <- twListToDF(tweets)\n",
    "nrow(df)\n",
    "df$text <- sapply(df$text,function(row) iconv(row, \"latin1\", \"ASCII\", sub=\"\"))\n"
   ]
  },
  {
   "cell_type": "code",
   "execution_count": 30,
   "metadata": {
    "collapsed": true
   },
   "outputs": [],
   "source": [
    "write.table(df$text,\"TweetOutput5.txt\",sep=\"\\n\",,row.names=F,col.names=F,quote=F,fileEncoding=\"UTF-8\")"
   ]
  },
  {
   "cell_type": "markdown",
   "metadata": {},
   "source": [
    "Every set of extracted tweets is added to a different file. A total of 5 files is created as input to the mapreduce code."
   ]
  },
  {
   "cell_type": "code",
   "execution_count": 5,
   "metadata": {
    "collapsed": false
   },
   "outputs": [
    {
     "name": "stderr",
     "output_type": "stream",
     "text": [
      "Installing package into 'C:/Users/User/Documents/R/win-library/3.3'\n",
      "(as 'lib' is unspecified)\n",
      "also installing the dependencies 'NLP', 'slam', 'tm'\n",
      "\n"
     ]
    },
    {
     "name": "stdout",
     "output_type": "stream",
     "text": [
      "package 'NLP' successfully unpacked and MD5 sums checked\n",
      "package 'slam' successfully unpacked and MD5 sums checked\n",
      "package 'tm' successfully unpacked and MD5 sums checked\n",
      "package 'wordcloud' successfully unpacked and MD5 sums checked\n",
      "\n",
      "The downloaded binary packages are in\n",
      "\tC:\\Users\\User\\AppData\\Local\\Temp\\RtmpwpYMw8\\downloaded_packages\n"
     ]
    },
    {
     "name": "stderr",
     "output_type": "stream",
     "text": [
      "Installing package into 'C:/Users/User/Documents/R/win-library/3.3'\n",
      "(as 'lib' is unspecified)\n",
      "Warning message:\n",
      "\"package 'RColorBrewer' is in use and will not be installed\""
     ]
    }
   ],
   "source": [
    "install.packages(\"wordcloud\", repos = \"https://cran.r-project.org/\", dependencies = TRUE)\n",
    "install.packages(\"RColorBrewer\", repos = \"https://cran.r-project.org/\", dependencies = TRUE)"
   ]
  },
  {
   "cell_type": "code",
   "execution_count": 6,
   "metadata": {
    "collapsed": false
   },
   "outputs": [
    {
     "name": "stderr",
     "output_type": "stream",
     "text": [
      "Warning message:\n",
      "\"package 'wordcloud' was built under R version 3.3.3\""
     ]
    }
   ],
   "source": [
    "library(wordcloud)\n",
    "library(RColorBrewer)"
   ]
  },
  {
   "cell_type": "markdown",
   "metadata": {},
   "source": [
    "Add libraries for wordcloud"
   ]
  },
  {
   "cell_type": "code",
   "execution_count": 8,
   "metadata": {
    "collapsed": false
   },
   "outputs": [
    {
     "data": {
      "text/html": [
       "<table>\n",
       "<thead><tr><th scope=col>V1</th><th scope=col>V2</th></tr></thead>\n",
       "<tbody>\n",
       "\t<tr><td>0       </td><td>1       </td></tr>\n",
       "\t<tr><td>02      </td><td>1       </td></tr>\n",
       "\t<tr><td>1       </td><td>6       </td></tr>\n",
       "\t<tr><td>10      </td><td>2       </td></tr>\n",
       "\t<tr><td>1001gags</td><td>1       </td></tr>\n",
       "\t<tr><td>102     </td><td>2       </td></tr>\n",
       "</tbody>\n",
       "</table>\n"
      ],
      "text/latex": [
       "\\begin{tabular}{r|ll}\n",
       " V1 & V2\\\\\n",
       "\\hline\n",
       "\t 0        & 1       \\\\\n",
       "\t 02       & 1       \\\\\n",
       "\t 1        & 6       \\\\\n",
       "\t 10       & 2       \\\\\n",
       "\t 1001gags & 1       \\\\\n",
       "\t 102      & 2       \\\\\n",
       "\\end{tabular}\n"
      ],
      "text/markdown": [
       "\n",
       "V1 | V2 | \n",
       "|---|---|---|---|---|---|\n",
       "| 0        | 1        | \n",
       "| 02       | 1        | \n",
       "| 1        | 6        | \n",
       "| 10       | 2        | \n",
       "| 1001gags | 1        | \n",
       "| 102      | 2        | \n",
       "\n",
       "\n"
      ],
      "text/plain": [
       "  V1       V2\n",
       "1 0        1 \n",
       "2 02       1 \n",
       "3 1        6 \n",
       "4 10       2 \n",
       "5 1001gags 1 \n",
       "6 102      2 "
      ]
     },
     "metadata": {},
     "output_type": "display_data"
    }
   ],
   "source": [
    "tweetWords <- read.table(\"WordCountOutput.txt\")"
   ]
  },
  {
   "cell_type": "markdown",
   "metadata": {},
   "source": [
    "Read from the map reduce word count output file"
   ]
  },
  {
   "cell_type": "code",
   "execution_count": 7,
   "metadata": {
    "collapsed": false
   },
   "outputs": [
    {
     "data": {
      "image/png": "[encoded data removed]",
      "text/plain": [
       "plot without title"
      ]
     },
     "metadata": {},
     "output_type": "display_data"
    }
   ],
   "source": [
    "wordcloud(words = tweetWords$V1, freq = tweetWords$V2, min.freq = 1,\n",
    "          max.words=200, random.order=FALSE, rot.per=0.35, \n",
    "          colors=brewer.pal(8, \"Dark2\"))"
   ]
  },
  {
   "cell_type": "code",
   "execution_count": null,
   "metadata": {
    "collapsed": true
   },
   "outputs": [],
   "source": []
  }
 ],
 "metadata": {
  "kernelspec": {
   "display_name": "R",
   "language": "R",
   "name": "ir"
  },
  "language_info": {
   "codemirror_mode": "r",
   "file_extension": ".r",
   "mimetype": "text/x-r-source",
   "name": "R",
   "pygments_lexer": "r",
   "version": "3.3.2"
  }
 },
 "nbformat": 4,
 "nbformat_minor": 2
}
